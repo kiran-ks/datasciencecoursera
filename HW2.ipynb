{
  "nbformat": 4,
  "nbformat_minor": 0,
  "metadata": {
    "colab": {
      "name": "HW2",
      "provenance": [],
      "authorship_tag": "ABX9TyOg13ZFO8jrls+s0H+BgQqn",
      "include_colab_link": true
    },
    "kernelspec": {
      "name": "python3",
      "display_name": "Python 3"
    }
  },
  "cells": [
    {
      "cell_type": "markdown",
      "metadata": {
        "id": "view-in-github",
        "colab_type": "text"
      },
      "source": [
        "<a href=\"https://colab.research.google.com/github/kiran-ks/datasciencecoursera/blob/master/HW2.ipynb\" target=\"_parent\"><img src=\"https://colab.research.google.com/assets/colab-badge.svg\" alt=\"Open In Colab\"/></a>"
      ]
    },
    {
      "cell_type": "code",
      "metadata": {
        "id": "HCm2udRZiEPw",
        "colab_type": "code",
        "colab": {
          "base_uri": "https://localhost:8080/",
          "height": 554
        },
        "outputId": "8153d366-8eca-4093-9ede-cb2e21d191ba"
      },
      "source": [
        "# 1. Include a section with your name\n",
        "name = \"Kiran Khanderao\"\n",
        "\n",
        "# 2. Create matrix A with size (3,5) containing random numbers\n",
        "import numpy as np\n",
        "A = np.random.randint(100, size=(3, 5))\n",
        "print(A)\n",
        "\n",
        "# 3. Find the size and length of matrix A\n",
        "size_A = A.shape\n",
        "length_A = len(A)\n",
        "print('size of A = ', size_A)\n",
        "print('length of A = ', length_A)\n",
        "\n",
        "# 4. Resize (crop/slice) matrix A to size (3,4)\n",
        "A = A[0:3, 0:4]\n",
        "print('A resized = ',A)\n",
        "\n",
        "# 5. Find the transpose of matrix A and assign it to B \n",
        "B = np.transpose(A)\n",
        "print('B = ',B)\n",
        "\n",
        "# 6. Find the minimum value in column 1 of matrix B\n",
        "min_val = min(B[:,1])\n",
        "print('minimum value in col 1 of B = ', min_val)\n",
        "\n",
        "# 7. Find the minimum and maximum values for the entire matrix A\n",
        "min_A = np.amin(A)\n",
        "max_A = np.amax(A)\n",
        "print('min of A =', min_A, ' max of A = ', max_A)\n",
        "\n",
        "# 8. Create vector X (an array) with 4 random numbers\n",
        "X= np.random.randint(100, size=4)\n",
        "print('X = ', X)\n",
        "\n",
        "# 9. Create a function and pass vector X and matrix A in it\n",
        "def funct(X, A):\n",
        "  print('made function with X, A')\n",
        "  pass\n",
        "funct(X, A)\n",
        "\n",
        "# 10. In the new function multiply vector X with matrix A and assign the result to D (note: you may get an error! … think why and fix it. Recall matric manipulation in class!)\n",
        "def function(X, A):\n",
        "  D = A*X\n",
        "  return D\n",
        "D = function(X, A)\n",
        "print('D = ', D)\n",
        "\n",
        "# 11. Create a complex number Z with absolute and real parts != 0\n",
        "Z = complex(2, 4)\n",
        "print('Z = ', Z)\n",
        "\n",
        "# 12. Show its real and imaginary parts as well as it’s absolute value\n",
        "Z_real= Z.real\n",
        "Z_imaginary = Z.imag\n",
        "Z_abs = abs(Z)\n",
        "print('Z real part = ', Z_real)\n",
        "print('Z imaginary part = ', Z_imaginary)\n",
        "print('Z absolute value = ', Z_abs)\n",
        "\n",
        "# 13. Multiply result D with the absolute value of Z and record it to C\n",
        "C = D*Z_abs\n",
        "print('C = ', C)\n",
        "\n",
        "# 14. Convert matrix B from a matrix to a string and overwrite B\n",
        "B = np.array2string(B)\n",
        "print('B = ', B)\n",
        "\n",
        "# 15. Display a text on the screen: ‘Name is done with HW2‘, but pass your ‘Name’ as a string variable\n",
        "print(name, \"is done with HW2\")\n",
        "\n",
        "# 16. Organize your code: use each line from this assignment as a comment line before each step\n",
        "\n",
        "# 17. Save all steps as a script in a .py file\n",
        "\n",
        "# 18. Email your Github link to me including your .py file + screenshots of your running code before next class."
      ],
      "execution_count": 33,
      "outputs": [
        {
          "output_type": "stream",
          "text": [
            "[[48 37 91 85 85]\n",
            " [12 15  3 19  1]\n",
            " [59 56 49 52 56]]\n",
            "size of A =  (3, 5)\n",
            "length of A =  3\n",
            "A resized =  [[48 37 91 85]\n",
            " [12 15  3 19]\n",
            " [59 56 49 52]]\n",
            "B =  [[48 12 59]\n",
            " [37 15 56]\n",
            " [91  3 49]\n",
            " [85 19 52]]\n",
            "minimum value in col 1 of B =  3\n",
            "min of A = 3  max of A =  91\n",
            "X =  [39 84 86 16]\n",
            "made function with X, A\n",
            "D =  [[1872 3108 7826 1360]\n",
            " [ 468 1260  258  304]\n",
            " [2301 4704 4214  832]]\n",
            "Z =  (2+4j)\n",
            "Z real part =  2.0\n",
            "Z imaginary part =  4.0\n",
            "Z absolute value =  4.47213595499958\n",
            "C =  [[ 8371.83850776 13899.39854814 34998.93598383  6082.1048988 ]\n",
            " [ 2092.95962694  5634.8913033   1153.81107639  1359.52933032]\n",
            " [10290.38483245 21036.92753232 18845.58091437  3720.81711456]]\n",
            "B =  [[48 12 59]\n",
            " [37 15 56]\n",
            " [91  3 49]\n",
            " [85 19 52]]\n",
            "Kiran Khanderao is done with HW2\n"
          ],
          "name": "stdout"
        }
      ]
    }
  ]
}